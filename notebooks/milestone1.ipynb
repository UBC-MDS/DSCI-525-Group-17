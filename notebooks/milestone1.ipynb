{
 "cells": [
  {
   "cell_type": "markdown",
   "id": "f8cdb514",
   "metadata": {},
   "source": [
    "# Milestone 1: Group 17\n",
    "Authors: Rus Dimitrov, Elena Ganacheva, Luke Yang, Shirley Zhang"
   ]
  },
  {
   "cell_type": "code",
   "execution_count": 1,
   "id": "67ff9b00-32f4-4c0c-865e-989489df6624",
   "metadata": {},
   "outputs": [],
   "source": [
    "import re\n",
    "import os\n",
    "import glob\n",
    "import zipfile\n",
    "import requests\n",
    "from urllib.request import urlretrieve\n",
    "import json\n",
    "import pandas as pd"
   ]
  },
  {
   "cell_type": "code",
   "execution_count": 2,
   "id": "5a8dcb44-a5cc-4372-a02b-ae12f7eae0d7",
   "metadata": {},
   "outputs": [
    {
     "name": "stdout",
     "output_type": "stream",
     "text": [
      "/Users/luke/Desktop/MDS/DSCI 525/DSCI-525-Group-17\n"
     ]
    }
   ],
   "source": [
    "# Set up data source directory *Needs to be set up differently for each group member*\n",
    "%cd /Users/luke/Desktop/MDS/DSCI 525/DSCI-525-Group-17"
   ]
  },
  {
   "cell_type": "markdown",
   "id": "4b79d3eb-78e5-409e-b31c-171704e93694",
   "metadata": {},
   "source": [
    "## 1. & 2. Team Work Contract & Project Repository"
   ]
  },
  {
   "cell_type": "markdown",
   "id": "4a7516ff-ff58-4a62-b38e-2f127417b2a4",
   "metadata": {},
   "source": [
    "Please see our Milestone 1 submission on Canvas. "
   ]
  },
  {
   "cell_type": "markdown",
   "id": "c58c3249",
   "metadata": {},
   "source": [
    "## 3. Downloading the data"
   ]
  },
  {
   "cell_type": "code",
   "execution_count": 3,
   "id": "fd3c55fa-1602-4713-9b02-b177c3209504",
   "metadata": {},
   "outputs": [],
   "source": [
    "# Necessary metadata\n",
    "article_id = 14096681  \n",
    "url = f\"https://api.figshare.com/v2/articles/{article_id}\"\n",
    "headers = {\"Content-Type\": \"application/json\"}\n",
    "output_directory = \"data/\""
   ]
  },
  {
   "cell_type": "code",
   "execution_count": 4,
   "id": "ca91e7db-eacf-4b61-a0dc-80efa92ceec8",
   "metadata": {},
   "outputs": [
    {
     "data": {
      "text/plain": [
       "[{'id': 26579150,\n",
       "  'name': 'daily_rainfall_2014.png',\n",
       "  'size': 58863,\n",
       "  'is_link_only': False,\n",
       "  'download_url': 'https://ndownloader.figshare.com/files/26579150',\n",
       "  'supplied_md5': 'fd32a2ffde300a31f8d63b1825d47e5e',\n",
       "  'computed_md5': 'fd32a2ffde300a31f8d63b1825d47e5e'},\n",
       " {'id': 26579171,\n",
       "  'name': 'environment.yml',\n",
       "  'size': 192,\n",
       "  'is_link_only': False,\n",
       "  'download_url': 'https://ndownloader.figshare.com/files/26579171',\n",
       "  'supplied_md5': '060b2020017eed93a1ee7dd8c65b2f34',\n",
       "  'computed_md5': '060b2020017eed93a1ee7dd8c65b2f34'},\n",
       " {'id': 26586554,\n",
       "  'name': 'README.md',\n",
       "  'size': 5422,\n",
       "  'is_link_only': False,\n",
       "  'download_url': 'https://ndownloader.figshare.com/files/26586554',\n",
       "  'supplied_md5': '61858c6cc0e6a6d6663a7e4c75bbd88c',\n",
       "  'computed_md5': '61858c6cc0e6a6d6663a7e4c75bbd88c'},\n",
       " {'id': 26766812,\n",
       "  'name': 'data.zip',\n",
       "  'size': 814041183,\n",
       "  'is_link_only': False,\n",
       "  'download_url': 'https://ndownloader.figshare.com/files/26766812',\n",
       "  'supplied_md5': 'b517383f76e77bd03755a63a8ff83ee9',\n",
       "  'computed_md5': 'b517383f76e77bd03755a63a8ff83ee9'},\n",
       " {'id': 26766815,\n",
       "  'name': 'get_data.py',\n",
       "  'size': 4113,\n",
       "  'is_link_only': False,\n",
       "  'download_url': 'https://ndownloader.figshare.com/files/26766815',\n",
       "  'supplied_md5': '7829028495fd9dec9680ea013474afa6',\n",
       "  'computed_md5': '7829028495fd9dec9680ea013474afa6'}]"
      ]
     },
     "execution_count": 4,
     "metadata": {},
     "output_type": "execute_result"
    }
   ],
   "source": [
    "response = requests.request(\"GET\", url, headers=headers)\n",
    "data = json.loads(response.text) \n",
    "files = data[\"files\"]            \n",
    "files"
   ]
  },
  {
   "cell_type": "code",
   "execution_count": 5,
   "id": "3268fae9-0ef2-4cf7-9b13-1db6481e4ce4",
   "metadata": {},
   "outputs": [
    {
     "name": "stdout",
     "output_type": "stream",
     "text": [
      "CPU times: user 2.16 s, sys: 2.7 s, total: 4.86 s\n",
      "Wall time: 2min 26s\n"
     ]
    }
   ],
   "source": [
    "%%time\n",
    "files_to_dl = [\"data.zip\"]\n",
    "for file in files:\n",
    "    if file[\"name\"] in files_to_dl:\n",
    "        os.makedirs(output_directory, exist_ok=True)\n",
    "        urlretrieve(file[\"download_url\"], output_directory + file[\"name\"])"
   ]
  },
  {
   "cell_type": "code",
   "execution_count": 6,
   "id": "d800ffe3-42e0-4e81-990d-7f04dd6a6545",
   "metadata": {},
   "outputs": [
    {
     "name": "stdout",
     "output_type": "stream",
     "text": [
      "CPU times: user 7.25 s, sys: 1.03 s, total: 8.28 s\n",
      "Wall time: 8.48 s\n"
     ]
    }
   ],
   "source": [
    "%%time\n",
    "with zipfile.ZipFile(os.path.join(output_directory, \"data.zip\"), 'r') as f:\n",
    "    f.extractall(output_directory)"
   ]
  },
  {
   "cell_type": "markdown",
   "id": "3f4541dc",
   "metadata": {},
   "source": [
    "## 4. Combining data CSVs"
   ]
  },
  {
   "cell_type": "code",
   "execution_count": 7,
   "id": "11311437-0fa4-4868-9f85-cf4cf299611e",
   "metadata": {},
   "outputs": [
    {
     "name": "stdout",
     "output_type": "stream",
     "text": [
      "CPU times: user 3min 2s, sys: 9.86 s, total: 3min 12s\n",
      "Wall time: 3min 13s\n"
     ]
    }
   ],
   "source": [
    "%%time\n",
    "# Combine csv files into one pandas data frame\n",
    "files = glob.glob('data/*.csv')\n",
    "df = pd.concat((pd.read_csv(file, index_col=0)\n",
    "                .assign(model=file.split('/')[1].split('_')[0]) # needs to be changed from / to \\\\ for Windows\n",
    "                for file in files)\n",
    "              )\n",
    "df.to_csv(\"data/combined_data.csv\")"
   ]
  },
  {
   "cell_type": "markdown",
   "id": "b42c14a2",
   "metadata": {},
   "source": [
    "> Please see chart below for all times for all team members for both Q4 and Q5 as well as comments on our observations"
   ]
  },
  {
   "cell_type": "markdown",
   "id": "2032c830",
   "metadata": {},
   "source": [
    "## 5. Load the combined CSV to memory and perform a simple EDA"
   ]
  },
  {
   "cell_type": "code",
   "execution_count": 8,
   "id": "09b89618-b243-4fde-a4df-3ead0dee1a41",
   "metadata": {},
   "outputs": [
    {
     "name": "stdout",
     "output_type": "stream",
     "text": [
      "1.000001      1\n",
      "1.000003      1\n",
      "1.000003      1\n",
      "1.000003      1\n",
      "1.000003      1\n",
      "             ..\n",
      "276.016970    1\n",
      "279.512002    1\n",
      "316.547388    1\n",
      "321.963371    1\n",
      "432.939515    1\n",
      "Length: 4896937, dtype: int64\n",
      "CPU times: user 35.9 s, sys: 5.72 s, total: 41.6 s\n",
      "Wall time: 42.8 s\n"
     ]
    }
   ],
   "source": [
    "%%time\n",
    "# Trying to load in chunks and filter for values after 2000 and greater than 1\n",
    "counts = pd.Series(dtype=int)\n",
    "for chunk in pd.read_csv(\"data/combined_data.csv\", chunksize=10_000_000):\n",
    "    chunk['time'] = pd.to_datetime(chunk['time'])\n",
    "    counts = counts.add(chunk[(chunk['time'] >=pd.to_datetime(2000)) & (chunk['rain (mm/day)'] >1)][\"rain (mm/day)\"].value_counts(), fill_value=0)\n",
    "print(counts.astype(int))"
   ]
  },
  {
   "cell_type": "markdown",
   "id": "4856426e-a0ac-4edd-9b12-aa0c2be8e1f8",
   "metadata": {},
   "source": [
    "**In the code below, we tried the following two approaches to reduce memory usage while performing EDA:**\n",
    "1. Loading just the columns we want \n",
    "2. Loading in chunks"
   ]
  },
  {
   "cell_type": "code",
   "execution_count": 9,
   "id": "d1bcf9c0-88c7-493f-9c3c-0745c170f558",
   "metadata": {},
   "outputs": [
    {
     "name": "stdout",
     "output_type": "stream",
     "text": [
      "          rain (mm/day)\n",
      "10000012      24.457625\n",
      "10000013      20.367342\n",
      "10000014      33.328206\n",
      "10000031      16.203621\n",
      "10000039      10.811434\n",
      "...                 ...\n",
      "62513838      52.754753\n",
      "62513847      17.760353\n",
      "62513849      17.165935\n",
      "62513860      10.005026\n",
      "62513862      68.117489\n",
      "\n",
      "[2592005 rows x 1 columns]\n",
      "CPU times: user 23 s, sys: 46.3 s, total: 1min 9s\n",
      "Wall time: 1min 24s\n"
     ]
    }
   ],
   "source": [
    "%%time\n",
    "# EDA (decided to focus only on the rain column and values greater than 10 as \"rainy days\")\n",
    "count_rainy_days = pd.Series(dtype=int)\n",
    "for chunk in pd.read_csv(\"data/combined_data.csv\", chunksize=10_000_000, usecols=[\"rain (mm/day)\"]):\n",
    "    count_rainy_days = count_rainy_days.add(chunk[(chunk > 10)], fill_value=0)\n",
    "\n",
    "count_rainy_days = count_rainy_days.dropna()\n",
    "print((count_rainy_days))"
   ]
  },
  {
   "cell_type": "code",
   "execution_count": 10,
   "id": "488bdfad-5b94-4c5d-8016-97ff45c47b23",
   "metadata": {},
   "outputs": [
    {
     "data": {
      "image/png": "[encoded data removed]",
      "text/plain": [
       "<Figure size 640x480 with 1 Axes>"
      ]
     },
     "metadata": {},
     "output_type": "display_data"
    }
   ],
   "source": [
    "count_rainy_days.hist();"
   ]
  },
  {
   "cell_type": "markdown",
   "id": "213baea4",
   "metadata": {},
   "source": [
    "| Team Member | Operating System | RAM | Processor | Is SSD | Time taken Q4|Time taken Q5|\n",
    "|:-----------:|:----------------:|:---:|:---------:|:------:|:----------:|:----------:|\n",
    "| Shirley    |   MacOS              |  8GB   |  Apple M2         |    TRUE    | 3min 15s           |    53.8s      |\n",
    "| Luke    |MacOS|8GB|Apple M2|TRUE|3min 13s|1min 24s|\n",
    "| Elena    |     Windows 10 Education             |  8GB   |   Intel Core i5-10210U       |  TRUE      |  9min 39s          |  1min 32s        |\n",
    "| Ruslan    |   Windows 10               |  8GB   |     AMD Ryzen 7      |      TRUE  |  10min 22s          |   2min 55s       |"
   ]
  },
  {
   "cell_type": "markdown",
   "id": "efafa8e8",
   "metadata": {},
   "source": [
    "### Observations\n",
    "\n",
    "It seems that the processors and potentially the operating systems have an impact on the time taken to execute the downloading of the data and the EDA. We were not able to access the impact of RAM as we all have 8GB of RAM. More specifically, downloading the data took three times as long on the Windows devices than the Mac devices, but this is most likely due to the Apple M2 processor being more powerful than the processors of our Windows devices than the operating systems themselves. When it came to the EDA our differences were smaller, with the split between Windows and Mac devices disappearing as Elena's computer was able to complete it slightly faster than Luke's while Ruslan's was the slowest and Shirley's was the fastest. There must be other factors in play that we did not record that account for the differences in processing for the EDA. "
   ]
  },
  {
   "cell_type": "markdown",
   "id": "50d10f90",
   "metadata": {},
   "source": [
    "## 6. Perform a simple EDA in R"
   ]
  },
  {
   "cell_type": "code",
   "execution_count": 11,
   "id": "db489446",
   "metadata": {},
   "outputs": [],
   "source": [
    "%load_ext rpy2.ipython"
   ]
  },
  {
   "cell_type": "code",
   "execution_count": 12,
   "id": "7150fc73",
   "metadata": {},
   "outputs": [],
   "source": [
    "%%R\n",
    "suppressMessages(library(dplyr))\n",
    "suppressMessages(library(readr))\n",
    "suppressMessages(library(ggplot2))"
   ]
  },
  {
   "cell_type": "code",
   "execution_count": 13,
   "id": "38fe3ddc",
   "metadata": {},
   "outputs": [
    {
     "name": "stdout",
     "output_type": "stream",
     "text": [
      "         rain (mm/day)\n",
      "10000012      24.45762\n",
      "10000013      20.36734\n",
      "10000014      33.32821\n",
      "10000031      16.20362\n",
      "10000039      10.81143\n",
      "10000043      18.19375\n"
     ]
    }
   ],
   "source": [
    "%%R -i count_rainy_days\n",
    "head(count_rainy_days)\n"
   ]
  },
  {
   "cell_type": "markdown",
   "id": "42e6632c",
   "metadata": {},
   "source": [
    "### Reasoning\n",
    "\n",
    "We chose to use 'Pandas Exchange' (converting from pandas dataframe to R).\n",
    "- This is because we wanted the notebook to run by itself from top to bottom. If we used a method like 'Parquet', we would be reading the .csv file twice (once for the Python EDA, and another time for the R EDA). This would take up a lot of memory, and the notebook would likely not be able to run fully.\n",
    "- Furthermore, we decided to use 'Pandas Exchange' instead of 'Pyarrow' as the latter does not use pandas dataframes. Instead, it creates a unified format that is shared between Python and R. However, we still wanted to use pandas for our Python EDA (due to familiarity). Thus, we thought 'Pandas Exchange' would be more appropriate.\n",
    "- Finally, we felt that 'Pandas Exchange' was relatively simple and easy to use, which facilitated the completion of this milestone. "
   ]
  },
  {
   "cell_type": "code",
   "execution_count": 14,
   "id": "4effd7d6",
   "metadata": {},
   "outputs": [
    {
     "name": "stdout",
     "output_type": "stream",
     "text": [
      " rain (mm/day)   \n",
      " Min.   : 10.00  \n",
      " 1st Qu.: 12.51  \n",
      " Median : 16.41  \n",
      " Mean   : 20.65  \n",
      " 3rd Qu.: 23.98  \n",
      " Max.   :286.23  \n"
     ]
    }
   ],
   "source": [
    "%%R\n",
    "summary(count_rainy_days)"
   ]
  },
  {
   "cell_type": "code",
   "execution_count": 15,
   "id": "30706999",
   "metadata": {},
   "outputs": [
    {
     "name": "stdout",
     "output_type": "stream",
     "text": [
      "`stat_bin()` using `bins = 30`. Pick better value with `binwidth`.\n"
     ]
    },
    {
     "data": {
      "image/png": "[encoded data removed]",
      "text/plain": [
       "<IPython.core.display.Image object>"
      ]
     },
     "metadata": {},
     "output_type": "display_data"
    },
    {
     "name": "stdout",
     "output_type": "stream",
     "text": [
      "CPU times: user 1.19 s, sys: 87.2 ms, total: 1.27 s\n",
      "Wall time: 3.8 s\n"
     ]
    }
   ],
   "source": [
    "%%time\n",
    "%%R\n",
    "ggplot(count_rainy_days) +\n",
    "    geom_histogram(aes(x = `rain (mm/day)`))"
   ]
  },
  {
   "cell_type": "markdown",
   "id": "41cbc87c-383f-42e4-881c-3ed16fa4487f",
   "metadata": {},
   "source": [
    "## Challenges we faced"
   ]
  },
  {
   "cell_type": "markdown",
   "id": "634bbad9-1dcf-4e17-b3c7-f2dcd01748cc",
   "metadata": {},
   "source": [
    "**Due to the size of the datafiles, a few of our team members had difficulties with running the notebook.**\n",
    "- During lab time, one of our team member's laptop spent a lot of time combining the data. It took almost half an hour, before they stopped running the notebook altogether. \n",
    "    - To resolve this issue, they tried closing other windows that were open on their laptop and restarting the kernel. This seemed to help immensely and the code ran relatively quickly afterwards. \n",
    "- Another team member had some difficulty downloading the data. \n",
    "    - To resolve this issue, they retried the download when they got home with better wifi, and the data downloaded much quicker. \n",
    "    \n",
    "**Another issue we ran into was accidentally printing or working with all of the dataset instead of filtering for just one column or just a few rows.**\n",
    "- This was mainly because we were used to being able to print a small dataframe without having much issues, and were not as careful. However, when we printed a dataframe this time, the cell would take a long time to run and a lot of output would be printed, which we did not want. \n",
    "    - To resolve this issue, we started to become more careful and rechecked our code before we can each cell. \n",
    "\n",
    "**Finally, some of our team members had issues running `%%R` code cells.** \n",
    "- Specifically, the Windows laptops did not seem to be able to run R. \n",
    "    - To resolve this issue, we just allowed other team members who could run R code run those cells, since it is not necessary for R to be run for the rest of the course. "
   ]
  },
  {
   "cell_type": "code",
   "execution_count": null,
   "id": "6ff73dbc-fe50-432a-b82b-fba5182a245e",
   "metadata": {},
   "outputs": [],
   "source": []
  }
 ],
 "metadata": {
  "kernelspec": {
   "display_name": "Python 3 (ipykernel)",
   "language": "python",
   "name": "python3"
  },
  "language_info": {
   "codemirror_mode": {
    "name": "ipython",
    "version": 3
   },
   "file_extension": ".py",
   "mimetype": "text/x-python",
   "name": "python",
   "nbconvert_exporter": "python",
   "pygments_lexer": "ipython3",
   "version": "3.10.8"
  }
 },
 "nbformat": 4,
 "nbformat_minor": 5
}
