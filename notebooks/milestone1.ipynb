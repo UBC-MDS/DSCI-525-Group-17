{
 "cells": [
  {
   "attachments": {},
   "cell_type": "markdown",
   "id": "f8cdb514",
   "metadata": {},
   "source": [
    "# Milestone 1: Group 17\n",
    "Authors: Rus Dimitrov, Elena Ganacheva, Luke Yang, Shirley Zhang"
   ]
  },
  {
   "cell_type": "code",
   "execution_count": 28,
   "id": "67ff9b00-32f4-4c0c-865e-989489df6624",
   "metadata": {},
   "outputs": [],
   "source": [
    "import re\n",
    "import os\n",
    "import glob\n",
    "import zipfile\n",
    "import requests\n",
    "from urllib.request import urlretrieve\n",
    "import json\n",
    "import pandas as pd"
   ]
  },
  {
   "cell_type": "code",
   "execution_count": 8,
   "id": "5a8dcb44-a5cc-4372-a02b-ae12f7eae0d7",
   "metadata": {},
   "outputs": [
    {
     "name": "stdout",
     "output_type": "stream",
     "text": [
      "c:\\Users\\Leny\\Documents\\MDS\\DSCI_525\\DSCI-525-Group-17\n"
     ]
    }
   ],
   "source": [
    "# Set up data source directory *Needs to be set up differently for each group member*\n",
    "%cd \\Users\\Leny\\Documents\\MDS\\DSCI_525\\DSCI-525-Group-17"
   ]
  },
  {
   "attachments": {},
   "cell_type": "markdown",
   "id": "c58c3249",
   "metadata": {},
   "source": [
    "## Downloading the data"
   ]
  },
  {
   "cell_type": "code",
   "execution_count": 9,
   "id": "fd3c55fa-1602-4713-9b02-b177c3209504",
   "metadata": {},
   "outputs": [],
   "source": [
    "# Necessary metadata\n",
    "article_id = 14096681  \n",
    "url = f\"https://api.figshare.com/v2/articles/{article_id}\"\n",
    "headers = {\"Content-Type\": \"application/json\"}\n",
    "output_directory = \"data/\""
   ]
  },
  {
   "cell_type": "code",
   "execution_count": 10,
   "id": "ca91e7db-eacf-4b61-a0dc-80efa92ceec8",
   "metadata": {},
   "outputs": [
    {
     "data": {
      "text/plain": [
       "[{'id': 26579150,\n",
       "  'name': 'daily_rainfall_2014.png',\n",
       "  'size': 58863,\n",
       "  'is_link_only': False,\n",
       "  'download_url': 'https://ndownloader.figshare.com/files/26579150',\n",
       "  'supplied_md5': 'fd32a2ffde300a31f8d63b1825d47e5e',\n",
       "  'computed_md5': 'fd32a2ffde300a31f8d63b1825d47e5e'},\n",
       " {'id': 26579171,\n",
       "  'name': 'environment.yml',\n",
       "  'size': 192,\n",
       "  'is_link_only': False,\n",
       "  'download_url': 'https://ndownloader.figshare.com/files/26579171',\n",
       "  'supplied_md5': '060b2020017eed93a1ee7dd8c65b2f34',\n",
       "  'computed_md5': '060b2020017eed93a1ee7dd8c65b2f34'},\n",
       " {'id': 26586554,\n",
       "  'name': 'README.md',\n",
       "  'size': 5422,\n",
       "  'is_link_only': False,\n",
       "  'download_url': 'https://ndownloader.figshare.com/files/26586554',\n",
       "  'supplied_md5': '61858c6cc0e6a6d6663a7e4c75bbd88c',\n",
       "  'computed_md5': '61858c6cc0e6a6d6663a7e4c75bbd88c'},\n",
       " {'id': 26766812,\n",
       "  'name': 'data.zip',\n",
       "  'size': 814041183,\n",
       "  'is_link_only': False,\n",
       "  'download_url': 'https://ndownloader.figshare.com/files/26766812',\n",
       "  'supplied_md5': 'b517383f76e77bd03755a63a8ff83ee9',\n",
       "  'computed_md5': 'b517383f76e77bd03755a63a8ff83ee9'},\n",
       " {'id': 26766815,\n",
       "  'name': 'get_data.py',\n",
       "  'size': 4113,\n",
       "  'is_link_only': False,\n",
       "  'download_url': 'https://ndownloader.figshare.com/files/26766815',\n",
       "  'supplied_md5': '7829028495fd9dec9680ea013474afa6',\n",
       "  'computed_md5': '7829028495fd9dec9680ea013474afa6'}]"
      ]
     },
     "execution_count": 10,
     "metadata": {},
     "output_type": "execute_result"
    }
   ],
   "source": [
    "response = requests.request(\"GET\", url, headers=headers)\n",
    "data = json.loads(response.text) \n",
    "files = data[\"files\"]            \n",
    "files"
   ]
  },
  {
   "cell_type": "code",
   "execution_count": 11,
   "id": "3268fae9-0ef2-4cf7-9b13-1db6481e4ce4",
   "metadata": {},
   "outputs": [
    {
     "name": "stdout",
     "output_type": "stream",
     "text": [
      "CPU times: total: 5.67 s\n",
      "Wall time: 1min 47s\n"
     ]
    }
   ],
   "source": [
    "%%time\n",
    "files_to_dl = [\"data.zip\"]\n",
    "for file in files:\n",
    "    if file[\"name\"] in files_to_dl:\n",
    "        os.makedirs(output_directory, exist_ok=True)\n",
    "        urlretrieve(file[\"download_url\"], output_directory + file[\"name\"])"
   ]
  },
  {
   "cell_type": "code",
   "execution_count": 12,
   "id": "d800ffe3-42e0-4e81-990d-7f04dd6a6545",
   "metadata": {},
   "outputs": [
    {
     "name": "stdout",
     "output_type": "stream",
     "text": [
      "CPU times: total: 20.7 s\n",
      "Wall time: 1min 5s\n"
     ]
    }
   ],
   "source": [
    "%%time\n",
    "with zipfile.ZipFile(os.path.join(output_directory, \"data.zip\"), 'r') as f:\n",
    "    f.extractall(output_directory)"
   ]
  },
  {
   "attachments": {},
   "cell_type": "markdown",
   "id": "3f4541dc",
   "metadata": {},
   "source": [
    "## Combining data CSVs"
   ]
  },
  {
   "cell_type": "code",
   "execution_count": 14,
   "id": "11311437-0fa4-4868-9f85-cf4cf299611e",
   "metadata": {},
   "outputs": [
    {
     "name": "stdout",
     "output_type": "stream",
     "text": [
      "CPU times: total: 9min 39s\n",
      "Wall time: 10min 19s\n"
     ]
    }
   ],
   "source": [
    "%%time\n",
    "# Combine csv files into one pandas data frame\n",
    "files = glob.glob('data/*.csv')\n",
    "df = pd.concat((pd.read_csv(file, index_col=0)\n",
    "                .assign(model=file.split('\\\\')[1].split('_')[0]) # needs to be changed from / to \\\\ for Windows\n",
    "                for file in files)\n",
    "              )\n",
    "df.to_csv(\"data/combined_data.csv\")"
   ]
  },
  {
   "attachments": {},
   "cell_type": "markdown",
   "id": "b42c14a2",
   "metadata": {},
   "source": [
    "> Please see chart below for all times for all team members for both Q4 and Q5 as well as comments on our observations"
   ]
  },
  {
   "attachments": {},
   "cell_type": "markdown",
   "id": "2032c830",
   "metadata": {},
   "source": [
    "## Load the combined CSV to memory and perform a simple EDA"
   ]
  },
  {
   "cell_type": "code",
   "execution_count": 15,
   "id": "09b89618-b243-4fde-a4df-3ead0dee1a41",
   "metadata": {},
   "outputs": [
    {
     "name": "stdout",
     "output_type": "stream",
     "text": [
      "1.000001      1\n",
      "1.000003      1\n",
      "1.000003      1\n",
      "1.000003      1\n",
      "1.000003      1\n",
      "             ..\n",
      "276.016970    1\n",
      "279.512002    1\n",
      "316.547388    1\n",
      "321.963371    1\n",
      "432.939515    1\n",
      "Length: 4896937, dtype: int32\n",
      "CPU times: total: 2min 25s\n",
      "Wall time: 2min 28s\n"
     ]
    }
   ],
   "source": [
    "%%time\n",
    "# Trying to load in chunks and filter for values after 2000 and greater than 1\n",
    "counts = pd.Series(dtype=int)\n",
    "for chunk in pd.read_csv(\"data/combined_data.csv\", chunksize=10_000_000):\n",
    "    chunk['time'] = pd.to_datetime(chunk['time'])\n",
    "    counts = counts.add(chunk[(chunk['time'] >=pd.to_datetime(2000)) & (chunk['rain (mm/day)'] >1)][\"rain (mm/day)\"].value_counts(), fill_value=0)\n",
    "print(counts.astype(int))"
   ]
  },
  {
   "cell_type": "code",
   "execution_count": 16,
   "id": "d1bcf9c0-88c7-493f-9c3c-0745c170f558",
   "metadata": {},
   "outputs": [
    {
     "name": "stdout",
     "output_type": "stream",
     "text": [
      "          rain (mm/day)\n",
      "10000018      23.470050\n",
      "10000054      24.661541\n",
      "10000058      10.849851\n",
      "10000059      10.113730\n",
      "10000083      21.826647\n",
      "...                 ...\n",
      "62513833      14.118380\n",
      "62513835      11.112642\n",
      "62513836      51.232331\n",
      "62513845      15.899770\n",
      "62513846      25.125585\n",
      "\n",
      "[2576194 rows x 1 columns]\n",
      "CPU times: total: 1min 32s\n",
      "Wall time: 1min 40s\n"
     ]
    }
   ],
   "source": [
    "%%time\n",
    "# EDA (decided to focus only on the rain column and values greater than 10 as \"rainy days\")\n",
    "count_rainy_days = pd.Series(dtype=int)\n",
    "for chunk in pd.read_csv(\"data/combined_data.csv\", chunksize=10_000_000, usecols=[\"rain (mm/day)\"]):\n",
    "    count_rainy_days = count_rainy_days.add(chunk[(chunk > 10)], fill_value=0)\n",
    "\n",
    "count_rainy_days = count_rainy_days.dropna()\n",
    "print((count_rainy_days))"
   ]
  },
  {
   "cell_type": "code",
   "execution_count": 18,
   "id": "488bdfad-5b94-4c5d-8016-97ff45c47b23",
   "metadata": {},
   "outputs": [
    {
     "data": {
      "image/png": "[encoded data removed]",
      "text/plain": [
       "<Figure size 640x480 with 1 Axes>"
      ]
     },
     "metadata": {},
     "output_type": "display_data"
    }
   ],
   "source": [
    "count_rainy_days.hist();"
   ]
  },
  {
   "attachments": {},
   "cell_type": "markdown",
   "id": "213baea4",
   "metadata": {},
   "source": [
    "| Team Member | Operating System | RAM | Processor | Is SSD | Time taken Q4|Time taken Q5|\n",
    "|:-----------:|:----------------:|:---:|:---------:|:------:|:----------:|:----------:|\n",
    "| Shirley    |   Mac M2               |  8GB   |  Apple M2         |    TRUE    | 3min 15s           |    53.8s      |\n",
    "| Luke    |MacOS|8GB|Apple M2|TRUE|3min 48s|1min 42s|\n",
    "| Elena    |     Windows 10 Education             |  8GB   |   Intel Core i5-10210U       |  TRUE      |  9min 39s          |  1min 32s        |\n",
    "| Ruslan    |   Windows 10               |  8GB   |     AMD Ryzen 7      |      TRUE  |  10min 22s          |   2min 55s       |"
   ]
  },
  {
   "attachments": {},
   "cell_type": "markdown",
   "id": "efafa8e8",
   "metadata": {},
   "source": [
    "### Observations\n",
    "\n",
    "It seems that the processors and potentially the operating systems have an impact on the time taken to execute the downloading of the data and the EDA. We were not able to access the impact of RAM as we all have 8GB of RAM. More specifically, downloading the data took three times as long on the Windows devices than the Mac devices, but this is most likely due to the Apple M2 processor being more powerful than the processors of our Windows devices than the operating systems themselves. When it came to the EDA our differences were smaller, with the split between Windows and Mac devices disappearing as Elena's computer was able to complete it slightly faster than Luke's while Ruslan's was the slowest and Shirley's was the fastest. There must be other factors in play that we did not record that account for the differences in processing for the EDA. "
   ]
  },
  {
   "attachments": {},
   "cell_type": "markdown",
   "id": "50d10f90",
   "metadata": {},
   "source": [
    "## Perform a simple EDA in R"
   ]
  },
  {
   "cell_type": "code",
   "execution_count": 4,
   "id": "db489446",
   "metadata": {},
   "outputs": [
    {
     "name": "stderr",
     "output_type": "stream",
     "text": [
      "R[write to console]: Error in gettext(fmt, domain = domain, trim = trim) : \n",
      "  3 arguments passed to .Internal(gettext) which requires 2\n",
      "\n"
     ]
    },
    {
     "ename": "RRuntimeError",
     "evalue": "Error in gettext(fmt, domain = domain, trim = trim) : \n  3 arguments passed to .Internal(gettext) which requires 2\n",
     "output_type": "error",
     "traceback": [
      "\u001b[1;31m---------------------------------------------------------------------------\u001b[0m",
      "\u001b[1;31mRRuntimeError\u001b[0m                             Traceback (most recent call last)",
      "Cell \u001b[1;32mIn[4], line 1\u001b[0m\n\u001b[1;32m----> 1\u001b[0m get_ipython()\u001b[39m.\u001b[39;49mrun_line_magic(\u001b[39m'\u001b[39;49m\u001b[39mload_ext\u001b[39;49m\u001b[39m'\u001b[39;49m, \u001b[39m'\u001b[39;49m\u001b[39mrpy2.ipython\u001b[39;49m\u001b[39m'\u001b[39;49m)\n",
      "File \u001b[1;32mc:\\Users\\Leny\\miniconda3\\lib\\site-packages\\IPython\\core\\interactiveshell.py:2369\u001b[0m, in \u001b[0;36mInteractiveShell.run_line_magic\u001b[1;34m(self, magic_name, line, _stack_depth)\u001b[0m\n\u001b[0;32m   2367\u001b[0m     kwargs[\u001b[39m'\u001b[39m\u001b[39mlocal_ns\u001b[39m\u001b[39m'\u001b[39m] \u001b[39m=\u001b[39m \u001b[39mself\u001b[39m\u001b[39m.\u001b[39mget_local_scope(stack_depth)\n\u001b[0;32m   2368\u001b[0m \u001b[39mwith\u001b[39;00m \u001b[39mself\u001b[39m\u001b[39m.\u001b[39mbuiltin_trap:\n\u001b[1;32m-> 2369\u001b[0m     result \u001b[39m=\u001b[39m fn(\u001b[39m*\u001b[39margs, \u001b[39m*\u001b[39m\u001b[39m*\u001b[39mkwargs)\n\u001b[0;32m   2371\u001b[0m \u001b[39m# The code below prevents the output from being displayed\u001b[39;00m\n\u001b[0;32m   2372\u001b[0m \u001b[39m# when using magics with decodator @output_can_be_silenced\u001b[39;00m\n\u001b[0;32m   2373\u001b[0m \u001b[39m# when the last Python token in the expression is a ';'.\u001b[39;00m\n\u001b[0;32m   2374\u001b[0m \u001b[39mif\u001b[39;00m \u001b[39mgetattr\u001b[39m(fn, magic\u001b[39m.\u001b[39mMAGIC_OUTPUT_CAN_BE_SILENCED, \u001b[39mFalse\u001b[39;00m):\n",
      "File \u001b[1;32mc:\\Users\\Leny\\miniconda3\\lib\\site-packages\\IPython\\core\\magics\\extension.py:33\u001b[0m, in \u001b[0;36mExtensionMagics.load_ext\u001b[1;34m(self, module_str)\u001b[0m\n\u001b[0;32m     31\u001b[0m \u001b[39mif\u001b[39;00m \u001b[39mnot\u001b[39;00m module_str:\n\u001b[0;32m     32\u001b[0m     \u001b[39mraise\u001b[39;00m UsageError(\u001b[39m'\u001b[39m\u001b[39mMissing module name.\u001b[39m\u001b[39m'\u001b[39m)\n\u001b[1;32m---> 33\u001b[0m res \u001b[39m=\u001b[39m \u001b[39mself\u001b[39;49m\u001b[39m.\u001b[39;49mshell\u001b[39m.\u001b[39;49mextension_manager\u001b[39m.\u001b[39;49mload_extension(module_str)\n\u001b[0;32m     35\u001b[0m \u001b[39mif\u001b[39;00m res \u001b[39m==\u001b[39m \u001b[39m'\u001b[39m\u001b[39malready loaded\u001b[39m\u001b[39m'\u001b[39m:\n\u001b[0;32m     36\u001b[0m     \u001b[39mprint\u001b[39m(\u001b[39m\"\u001b[39m\u001b[39mThe \u001b[39m\u001b[39m%s\u001b[39;00m\u001b[39m extension is already loaded. To reload it, use:\u001b[39m\u001b[39m\"\u001b[39m \u001b[39m%\u001b[39m module_str)\n",
      "File \u001b[1;32mc:\\Users\\Leny\\miniconda3\\lib\\site-packages\\IPython\\core\\extensions.py:76\u001b[0m, in \u001b[0;36mExtensionManager.load_extension\u001b[1;34m(self, module_str)\u001b[0m\n\u001b[0;32m     69\u001b[0m \u001b[39m\u001b[39m\u001b[39m\"\"\"Load an IPython extension by its module name.\u001b[39;00m\n\u001b[0;32m     70\u001b[0m \n\u001b[0;32m     71\u001b[0m \u001b[39mReturns the string \"already loaded\" if the extension is already loaded,\u001b[39;00m\n\u001b[0;32m     72\u001b[0m \u001b[39m\"no load function\" if the module doesn't have a load_ipython_extension\u001b[39;00m\n\u001b[0;32m     73\u001b[0m \u001b[39mfunction, or None if it succeeded.\u001b[39;00m\n\u001b[0;32m     74\u001b[0m \u001b[39m\"\"\"\u001b[39;00m\n\u001b[0;32m     75\u001b[0m \u001b[39mtry\u001b[39;00m:\n\u001b[1;32m---> 76\u001b[0m     \u001b[39mreturn\u001b[39;00m \u001b[39mself\u001b[39;49m\u001b[39m.\u001b[39;49m_load_extension(module_str)\n\u001b[0;32m     77\u001b[0m \u001b[39mexcept\u001b[39;00m \u001b[39mModuleNotFoundError\u001b[39;00m:\n\u001b[0;32m     78\u001b[0m     \u001b[39mif\u001b[39;00m module_str \u001b[39min\u001b[39;00m BUILTINS_EXTS:\n",
      "File \u001b[1;32mc:\\Users\\Leny\\miniconda3\\lib\\site-packages\\IPython\\core\\extensions.py:91\u001b[0m, in \u001b[0;36mExtensionManager._load_extension\u001b[1;34m(self, module_str)\u001b[0m\n\u001b[0;32m     89\u001b[0m \u001b[39mwith\u001b[39;00m \u001b[39mself\u001b[39m\u001b[39m.\u001b[39mshell\u001b[39m.\u001b[39mbuiltin_trap:\n\u001b[0;32m     90\u001b[0m     \u001b[39mif\u001b[39;00m module_str \u001b[39mnot\u001b[39;00m \u001b[39min\u001b[39;00m sys\u001b[39m.\u001b[39mmodules:\n\u001b[1;32m---> 91\u001b[0m         mod \u001b[39m=\u001b[39m import_module(module_str)\n\u001b[0;32m     92\u001b[0m     mod \u001b[39m=\u001b[39m sys\u001b[39m.\u001b[39mmodules[module_str]\n\u001b[0;32m     93\u001b[0m     \u001b[39mif\u001b[39;00m \u001b[39mself\u001b[39m\u001b[39m.\u001b[39m_call_load_ipython_extension(mod):\n",
      "File \u001b[1;32mc:\\Users\\Leny\\miniconda3\\lib\\importlib\\__init__.py:126\u001b[0m, in \u001b[0;36mimport_module\u001b[1;34m(name, package)\u001b[0m\n\u001b[0;32m    124\u001b[0m             \u001b[39mbreak\u001b[39;00m\n\u001b[0;32m    125\u001b[0m         level \u001b[39m+\u001b[39m\u001b[39m=\u001b[39m \u001b[39m1\u001b[39m\n\u001b[1;32m--> 126\u001b[0m \u001b[39mreturn\u001b[39;00m _bootstrap\u001b[39m.\u001b[39;49m_gcd_import(name[level:], package, level)\n",
      "File \u001b[1;32m<frozen importlib._bootstrap>:1050\u001b[0m, in \u001b[0;36m_gcd_import\u001b[1;34m(name, package, level)\u001b[0m\n",
      "File \u001b[1;32m<frozen importlib._bootstrap>:1027\u001b[0m, in \u001b[0;36m_find_and_load\u001b[1;34m(name, import_)\u001b[0m\n",
      "File \u001b[1;32m<frozen importlib._bootstrap>:1006\u001b[0m, in \u001b[0;36m_find_and_load_unlocked\u001b[1;34m(name, import_)\u001b[0m\n",
      "File \u001b[1;32m<frozen importlib._bootstrap>:688\u001b[0m, in \u001b[0;36m_load_unlocked\u001b[1;34m(spec)\u001b[0m\n",
      "File \u001b[1;32m<frozen importlib._bootstrap_external>:883\u001b[0m, in \u001b[0;36mexec_module\u001b[1;34m(self, module)\u001b[0m\n",
      "File \u001b[1;32m<frozen importlib._bootstrap>:241\u001b[0m, in \u001b[0;36m_call_with_frames_removed\u001b[1;34m(f, *args, **kwds)\u001b[0m\n",
      "File \u001b[1;32mc:\\Users\\Leny\\miniconda3\\lib\\site-packages\\rpy2\\ipython\\__init__.py:1\u001b[0m\n\u001b[1;32m----> 1\u001b[0m \u001b[39mfrom\u001b[39;00m \u001b[39m.\u001b[39;00m \u001b[39mimport\u001b[39;00m rmagic\n\u001b[0;32m      3\u001b[0m load_ipython_extension \u001b[39m=\u001b[39m rmagic\u001b[39m.\u001b[39mload_ipython_extension\n",
      "File \u001b[1;32mc:\\Users\\Leny\\miniconda3\\lib\\site-packages\\rpy2\\ipython\\rmagic.py:58\u001b[0m\n\u001b[0;32m     56\u001b[0m \u001b[39mimport\u001b[39;00m \u001b[39mrpy2\u001b[39;00m\u001b[39m.\u001b[39;00m\u001b[39mrinterface\u001b[39;00m \u001b[39mas\u001b[39;00m \u001b[39mri\u001b[39;00m\n\u001b[0;32m     57\u001b[0m \u001b[39mimport\u001b[39;00m \u001b[39mrpy2\u001b[39;00m\u001b[39m.\u001b[39;00m\u001b[39mrinterface_lib\u001b[39;00m\u001b[39m.\u001b[39;00m\u001b[39mcallbacks\u001b[39;00m\n\u001b[1;32m---> 58\u001b[0m \u001b[39mimport\u001b[39;00m \u001b[39mrpy2\u001b[39;00m\u001b[39m.\u001b[39;00m\u001b[39mrobjects\u001b[39;00m \u001b[39mas\u001b[39;00m \u001b[39mro\u001b[39;00m\n\u001b[0;32m     59\u001b[0m \u001b[39mimport\u001b[39;00m \u001b[39mrpy2\u001b[39;00m\u001b[39m.\u001b[39;00m\u001b[39mrobjects\u001b[39;00m\u001b[39m.\u001b[39;00m\u001b[39mpackages\u001b[39;00m \u001b[39mas\u001b[39;00m \u001b[39mrpacks\u001b[39;00m\n\u001b[0;32m     60\u001b[0m \u001b[39mfrom\u001b[39;00m \u001b[39mrpy2\u001b[39;00m\u001b[39m.\u001b[39;00m\u001b[39mrobjects\u001b[39;00m\u001b[39m.\u001b[39;00m\u001b[39mlib\u001b[39;00m \u001b[39mimport\u001b[39;00m grdevices\n",
      "File \u001b[1;32mc:\\Users\\Leny\\miniconda3\\lib\\site-packages\\rpy2\\robjects\\__init__.py:19\u001b[0m\n\u001b[0;32m     16\u001b[0m \u001b[39mimport\u001b[39;00m \u001b[39mrpy2\u001b[39;00m\u001b[39m.\u001b[39;00m\u001b[39mrlike\u001b[39;00m\u001b[39m.\u001b[39;00m\u001b[39mcontainer\u001b[39;00m \u001b[39mas\u001b[39;00m \u001b[39mrlc\u001b[39;00m\n\u001b[0;32m     18\u001b[0m \u001b[39mfrom\u001b[39;00m \u001b[39mrpy2\u001b[39;00m\u001b[39m.\u001b[39;00m\u001b[39mrobjects\u001b[39;00m\u001b[39m.\u001b[39;00m\u001b[39mrobject\u001b[39;00m \u001b[39mimport\u001b[39;00m RObjectMixin, RObject\n\u001b[1;32m---> 19\u001b[0m \u001b[39mimport\u001b[39;00m \u001b[39mrpy2\u001b[39;00m\u001b[39m.\u001b[39;00m\u001b[39mrobjects\u001b[39;00m\u001b[39m.\u001b[39;00m\u001b[39mfunctions\u001b[39;00m\n\u001b[0;32m     20\u001b[0m \u001b[39mfrom\u001b[39;00m \u001b[39mrpy2\u001b[39;00m\u001b[39m.\u001b[39;00m\u001b[39mrobjects\u001b[39;00m\u001b[39m.\u001b[39;00m\u001b[39menvironments\u001b[39;00m \u001b[39mimport\u001b[39;00m (Environment,\n\u001b[0;32m     21\u001b[0m                                         local_context)\n\u001b[0;32m     22\u001b[0m \u001b[39mfrom\u001b[39;00m \u001b[39mrpy2\u001b[39;00m\u001b[39m.\u001b[39;00m\u001b[39mrobjects\u001b[39;00m\u001b[39m.\u001b[39;00m\u001b[39mmethods\u001b[39;00m \u001b[39mimport\u001b[39;00m methods_env\n",
      "File \u001b[1;32mc:\\Users\\Leny\\miniconda3\\lib\\site-packages\\rpy2\\robjects\\functions.py:12\u001b[0m\n\u001b[0;32m     10\u001b[0m \u001b[39mimport\u001b[39;00m \u001b[39mrpy2\u001b[39;00m\u001b[39m.\u001b[39;00m\u001b[39mrinterface\u001b[39;00m \u001b[39mas\u001b[39;00m \u001b[39mrinterface\u001b[39;00m\n\u001b[0;32m     11\u001b[0m \u001b[39mimport\u001b[39;00m \u001b[39mrpy2\u001b[39;00m\u001b[39m.\u001b[39;00m\u001b[39mrinterface_lib\u001b[39;00m\u001b[39m.\u001b[39;00m\u001b[39msexp\u001b[39;00m\n\u001b[1;32m---> 12\u001b[0m \u001b[39mfrom\u001b[39;00m \u001b[39mrpy2\u001b[39;00m\u001b[39m.\u001b[39;00m\u001b[39mrobjects\u001b[39;00m \u001b[39mimport\u001b[39;00m help\n\u001b[0;32m     13\u001b[0m \u001b[39mfrom\u001b[39;00m \u001b[39mrpy2\u001b[39;00m\u001b[39m.\u001b[39;00m\u001b[39mrobjects\u001b[39;00m \u001b[39mimport\u001b[39;00m conversion\n\u001b[0;32m     14\u001b[0m \u001b[39mfrom\u001b[39;00m \u001b[39mrpy2\u001b[39;00m\u001b[39m.\u001b[39;00m\u001b[39mrobjects\u001b[39;00m\u001b[39m.\u001b[39;00m\u001b[39mvectors\u001b[39;00m \u001b[39mimport\u001b[39;00m Vector\n",
      "File \u001b[1;32mc:\\Users\\Leny\\miniconda3\\lib\\site-packages\\rpy2\\robjects\\help.py:45\u001b[0m\n\u001b[0;32m     41\u001b[0m     ok \u001b[39m=\u001b[39m _eval(expr)\n\u001b[0;32m     42\u001b[0m     \u001b[39mreturn\u001b[39;00m ok\n\u001b[1;32m---> 45\u001b[0m quiet_require(\u001b[39m'\u001b[39;49m\u001b[39mtools\u001b[39;49m\u001b[39m'\u001b[39;49m)\n\u001b[0;32m     46\u001b[0m _get_namespace \u001b[39m=\u001b[39m rinterface\u001b[39m.\u001b[39mbaseenv[\u001b[39m'\u001b[39m\u001b[39mgetNamespace\u001b[39m\u001b[39m'\u001b[39m]\n\u001b[0;32m     47\u001b[0m _lazyload_dbfetch \u001b[39m=\u001b[39m rinterface\u001b[39m.\u001b[39mbaseenv[\u001b[39m'\u001b[39m\u001b[39mlazyLoadDBfetch\u001b[39m\u001b[39m'\u001b[39m]\n",
      "File \u001b[1;32mc:\\Users\\Leny\\miniconda3\\lib\\site-packages\\rpy2\\robjects\\help.py:41\u001b[0m, in \u001b[0;36mquiet_require\u001b[1;34m(name, lib_loc)\u001b[0m\n\u001b[0;32m     38\u001b[0m expr_txt \u001b[39m=\u001b[39m (\u001b[39m'\u001b[39m\u001b[39msuppressPackageStartupMessages(base::require(\u001b[39m\u001b[39m%s\u001b[39;00m\u001b[39m, lib.loc=\u001b[39m\u001b[39m%s\u001b[39;00m\u001b[39m))\u001b[39m\u001b[39m'\u001b[39m\n\u001b[0;32m     39\u001b[0m             \u001b[39m%\u001b[39m (name, lib_loc))\n\u001b[0;32m     40\u001b[0m expr \u001b[39m=\u001b[39m rinterface\u001b[39m.\u001b[39mparse(expr_txt)\n\u001b[1;32m---> 41\u001b[0m ok \u001b[39m=\u001b[39m _eval(expr)\n\u001b[0;32m     42\u001b[0m \u001b[39mreturn\u001b[39;00m ok\n",
      "File \u001b[1;32mc:\\Users\\Leny\\miniconda3\\lib\\site-packages\\rpy2\\rinterface_lib\\conversion.py:45\u001b[0m, in \u001b[0;36m_cdata_res_to_rinterface.<locals>._\u001b[1;34m(*args, **kwargs)\u001b[0m\n\u001b[0;32m     44\u001b[0m \u001b[39mdef\u001b[39;00m \u001b[39m_\u001b[39m(\u001b[39m*\u001b[39margs, \u001b[39m*\u001b[39m\u001b[39m*\u001b[39mkwargs):\n\u001b[1;32m---> 45\u001b[0m     cdata \u001b[39m=\u001b[39m function(\u001b[39m*\u001b[39margs, \u001b[39m*\u001b[39m\u001b[39m*\u001b[39mkwargs)\n\u001b[0;32m     46\u001b[0m     \u001b[39m# TODO: test cdata is of the expected CType\u001b[39;00m\n\u001b[0;32m     47\u001b[0m     \u001b[39mreturn\u001b[39;00m _cdata_to_rinterface(cdata)\n",
      "File \u001b[1;32mc:\\Users\\Leny\\miniconda3\\lib\\site-packages\\rpy2\\rinterface.py:817\u001b[0m, in \u001b[0;36mSexpClosure.__call__\u001b[1;34m(self, *args, **kwargs)\u001b[0m\n\u001b[0;32m    810\u001b[0m     res \u001b[39m=\u001b[39m rmemory\u001b[39m.\u001b[39mprotect(\n\u001b[0;32m    811\u001b[0m         openrlib\u001b[39m.\u001b[39mrlib\u001b[39m.\u001b[39mR_tryEval(\n\u001b[0;32m    812\u001b[0m             call_r,\n\u001b[0;32m    813\u001b[0m             call_context\u001b[39m.\u001b[39m__sexp__\u001b[39m.\u001b[39m_cdata,\n\u001b[0;32m    814\u001b[0m             error_occured)\n\u001b[0;32m    815\u001b[0m     )\n\u001b[0;32m    816\u001b[0m     \u001b[39mif\u001b[39;00m error_occured[\u001b[39m0\u001b[39m]:\n\u001b[1;32m--> 817\u001b[0m         \u001b[39mraise\u001b[39;00m embedded\u001b[39m.\u001b[39mRRuntimeError(_rinterface\u001b[39m.\u001b[39m_geterrmessage())\n\u001b[0;32m    818\u001b[0m \u001b[39mreturn\u001b[39;00m res\n",
      "\u001b[1;31mRRuntimeError\u001b[0m: Error in gettext(fmt, domain = domain, trim = trim) : \n  3 arguments passed to .Internal(gettext) which requires 2\n"
     ]
    }
   ],
   "source": [
    "%load_ext rpy2.ipython"
   ]
  },
  {
   "cell_type": "code",
   "execution_count": 26,
   "id": "7150fc73",
   "metadata": {},
   "outputs": [
    {
     "name": "stderr",
     "output_type": "stream",
     "text": [
      "UsageError: Cell magic `%%R` not found.\n"
     ]
    }
   ],
   "source": [
    "%%R\n",
    "suppressMessages(library(dplyr))\n",
    "suppressMessages(library(readr))\n",
    "suppressMessages(library(ggplot2))"
   ]
  },
  {
   "cell_type": "code",
   "execution_count": null,
   "id": "38fe3ddc",
   "metadata": {},
   "outputs": [],
   "source": [
    "%%R -i count_rainy_days\n",
    "head(count_rainy_days)\n"
   ]
  },
  {
   "attachments": {},
   "cell_type": "markdown",
   "id": "42e6632c",
   "metadata": {},
   "source": [
    "\n",
    "- We chose to use 'Pandas Exchange' (converting from pandas dataframe to R)\n",
    "- This is because we wanted the notebook to run by itself from top to bottom\n",
    "- If we used a method like 'Parquet', we would be reading the .csv file twice (once for the Python EDA, and another time for the R EDA)\n",
    "- This would take up a lot of memory, and the notebook would likely not be able to run fully\n",
    "- Furthermore, we decided to use 'Pandas Exchange' instead of 'Pyarrow' as the latter does not use pandas dataframes. Instead, it creates a unified format that is shared between Python and R. However, we still wanted to use pandas for our Python EDA (due to familiarity). Thus, we thought 'Pandas Exchange' would be more appropriate.\n"
   ]
  },
  {
   "cell_type": "code",
   "execution_count": null,
   "id": "4effd7d6",
   "metadata": {},
   "outputs": [],
   "source": [
    "%%R\n",
    "summary(count_rainy_days)"
   ]
  },
  {
   "cell_type": "code",
   "execution_count": null,
   "id": "30706999",
   "metadata": {},
   "outputs": [],
   "source": [
    "%%time\n",
    "%%R\n",
    "ggplot(count_rainy_days) +\n",
    "    geom_histogram(aes(x = `rain (mm/day)`))"
   ]
  }
 ],
 "metadata": {
  "kernelspec": {
   "display_name": "MDS",
   "language": "python",
   "name": "python3"
  },
  "language_info": {
   "codemirror_mode": {
    "name": "ipython",
    "version": 3
   },
   "file_extension": ".py",
   "mimetype": "text/x-python",
   "name": "python",
   "nbconvert_exporter": "python",
   "pygments_lexer": "ipython3",
   "version": "3.10.6"
  }
 },
 "nbformat": 4,
 "nbformat_minor": 5
}
